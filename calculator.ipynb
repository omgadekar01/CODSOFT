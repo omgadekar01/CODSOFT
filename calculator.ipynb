{
 "cells": [
  {
   "cell_type": "code",
   "execution_count": null,
   "id": "28445599-e04e-4634-bac2-e9ff2e1e02cc",
   "metadata": {},
   "outputs": [
    {
     "ename": "IndentationError",
     "evalue": "unindent does not match any outer indentation level (<string>, line 18)",
     "output_type": "error",
     "traceback": [
      "\u001b[1;36m  File \u001b[1;32m<string>:18\u001b[1;36m\u001b[0m\n\u001b[1;33m    print(\"operation\"):\u001b[0m\n\u001b[1;37m                       ^\u001b[0m\n\u001b[1;31mIndentationError\u001b[0m\u001b[1;31m:\u001b[0m unindent does not match any outer indentation level\n"
     ]
    }
   ],
   "source": [
    "In[22]: #calculator\n",
    "      def add(P,Q):\n",
    "      #THIS FUNCTION IS USED FOR ADDITION OF ANY TWO NUMBERS\n",
    "      return P+Q\n",
    "     \n",
    "      def subtract(P,Q):\n",
    "      #THIS FUNCTION IS USED FOR SUBTRACTION OF ANY TWO NUMBERS\n",
    "      return P-Q\n",
    "      \n",
    "      def multiply(P,Q):\n",
    "      #THIS FUNCTION IS USED FOR MULTIPLICATION OF ANY TWO NUMBERS\n",
    "      return P*Q\n",
    "      \n",
    "      def division(P,Q):\n",
    "      #THIS FUNCTION IS USED FOR DIVISION OF ANY TWO NUMBERS\n",
    "      return P/Q\n",
    "\n",
    "     \n",
    "     print(\"please select operation\")\n",
    "     print(\"1.Add\")\n",
    "     print(\"2.Substract\")\n",
    "     print(\"3.Multiply\")\n",
    "     print(\"4.Division\")\n",
    "\n",
    "     choice = input(\"please enter the choice(1/2/3/4)\")\n",
    "\n",
    "     num1= int(\"please enter the first number\")\n",
    "     num2= int(\"please enter the second number\")\n",
    "\n",
    "     if choice == '1':\n",
    "         printf(num1,'+',num2,'=',add(num1,num2))\n",
    "    elif choice == '2':\n",
    "         printf(num1,'-',num2,'=',subtract(num1,num2))\n",
    "   elif choice == '3':\n",
    "         printf(num1,'*',num2,'=',multiply(num1,num2))\n",
    "   elif choice == '4':\n",
    "         printf(num1,'/',num2,'=',division(num1,num2))\n",
    "\n",
    "     else:\n",
    "          print('its invalid choice' )\n",
    "\n",
    "\n",
    "     "
   ]
  },
  {
   "cell_type": "code",
   "execution_count": null,
   "id": "898ec2a1-4ad8-4f4d-8582-68c4ffc6e75d",
   "metadata": {},
   "outputs": [],
   "source": []
  },
  {
   "cell_type": "code",
   "execution_count": null,
   "id": "cda7f807-61ef-4bb3-b2e9-37cd600f9338",
   "metadata": {},
   "outputs": [],
   "source": []
  },
  {
   "cell_type": "code",
   "execution_count": null,
   "id": "5d662cbe-165b-43b3-807e-65057bef79d5",
   "metadata": {},
   "outputs": [],
   "source": []
  }
 ],
 "metadata": {
  "kernelspec": {
   "display_name": "Python 3 (ipykernel)",
   "language": "python",
   "name": "python3"
  },
  "language_info": {
   "codemirror_mode": {
    "name": "ipython",
    "version": 3
   },
   "file_extension": ".py",
   "mimetype": "text/x-python",
   "name": "python",
   "nbconvert_exporter": "python",
   "pygments_lexer": "ipython3",
   "version": "3.12.3"
  }
 },
 "nbformat": 4,
 "nbformat_minor": 5
}
